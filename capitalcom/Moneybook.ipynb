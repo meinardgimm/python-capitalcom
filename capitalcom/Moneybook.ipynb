{
 "cells": [
  {
   "cell_type": "code",
   "execution_count": 3,
   "metadata": {},
   "outputs": [],
   "source": [
    "## Initializations\n",
    "from config import login, password, API_KEY\n",
    "from client_demo import *\n",
    "from tradingscrips import *\n",
    "from webhook_simulatior import *\n",
    "import visualizations\n",
    "# in gitignore\n",
    "cl = Client(\n",
    "    login,\n",
    "    password,\n",
    "    API_KEY\n",
    ")\n"
   ]
  },
  {
   "cell_type": "code",
   "execution_count": 7,
   "metadata": {},
   "outputs": [
    {
     "ename": "KeyboardInterrupt",
     "evalue": "",
     "output_type": "error",
     "traceback": [
      "\u001b[1;31m---------------------------------------------------------------------------\u001b[0m",
      "\u001b[1;31mKeyboardInterrupt\u001b[0m                         Traceback (most recent call last)",
      "Cell \u001b[1;32mIn[7], line 68\u001b[0m\n\u001b[0;32m     66\u001b[0m \u001b[38;5;66;03m# Create and run the account visualizer\u001b[39;00m\n\u001b[0;32m     67\u001b[0m visualizer \u001b[38;5;241m=\u001b[39m visualizations\u001b[38;5;241m.\u001b[39mAccountVisualizer(accounts)\n\u001b[1;32m---> 68\u001b[0m \u001b[43mvisualizer\u001b[49m\u001b[38;5;241;43m.\u001b[39;49m\u001b[43mrun\u001b[49m\u001b[43m(\u001b[49m\u001b[43m)\u001b[49m\n\u001b[0;32m     70\u001b[0m \u001b[38;5;66;03m# prints out actions (even if unsuccessful)\u001b[39;00m\n\u001b[0;32m     71\u001b[0m \u001b[38;5;28mprint\u001b[39m(action)\n",
      "File \u001b[1;32mc:\\Users\\meina\\OneDrive\\Dokumente\\GitHub\\python-capitalcom\\capitalcom\\visualizations.py:37\u001b[0m, in \u001b[0;36mAccountVisualizer.run\u001b[1;34m(self)\u001b[0m\n\u001b[0;32m     36\u001b[0m \u001b[38;5;28;01mdef\u001b[39;00m \u001b[38;5;21mrun\u001b[39m(\u001b[38;5;28mself\u001b[39m):\n\u001b[1;32m---> 37\u001b[0m     \u001b[38;5;28;43mself\u001b[39;49m\u001b[38;5;241;43m.\u001b[39;49m\u001b[43mroot\u001b[49m\u001b[38;5;241;43m.\u001b[39;49m\u001b[43mmainloop\u001b[49m\u001b[43m(\u001b[49m\u001b[43m)\u001b[49m\n",
      "File \u001b[1;32mC:\\Program Files\\WindowsApps\\PythonSoftwareFoundation.Python.3.10_3.10.3056.0_x64__qbz5n2kfra8p0\\lib\\tkinter\\__init__.py:1458\u001b[0m, in \u001b[0;36mMisc.mainloop\u001b[1;34m(self, n)\u001b[0m\n\u001b[0;32m   1456\u001b[0m \u001b[38;5;28;01mdef\u001b[39;00m \u001b[38;5;21mmainloop\u001b[39m(\u001b[38;5;28mself\u001b[39m, n\u001b[38;5;241m=\u001b[39m\u001b[38;5;241m0\u001b[39m):\n\u001b[0;32m   1457\u001b[0m \u001b[38;5;250m    \u001b[39m\u001b[38;5;124;03m\"\"\"Call the mainloop of Tk.\"\"\"\u001b[39;00m\n\u001b[1;32m-> 1458\u001b[0m     \u001b[38;5;28;43mself\u001b[39;49m\u001b[38;5;241;43m.\u001b[39;49m\u001b[43mtk\u001b[49m\u001b[38;5;241;43m.\u001b[39;49m\u001b[43mmainloop\u001b[49m\u001b[43m(\u001b[49m\u001b[43mn\u001b[49m\u001b[43m)\u001b[49m\n",
      "File \u001b[1;32mC:\\Program Files\\WindowsApps\\PythonSoftwareFoundation.Python.3.10_3.10.3056.0_x64__qbz5n2kfra8p0\\lib\\tkinter\\__init__.py:1916\u001b[0m, in \u001b[0;36mCallWrapper.__call__\u001b[1;34m(self, *args)\u001b[0m\n\u001b[0;32m   1913\u001b[0m     \u001b[38;5;28mself\u001b[39m\u001b[38;5;241m.\u001b[39msubst \u001b[38;5;241m=\u001b[39m subst\n\u001b[0;32m   1914\u001b[0m     \u001b[38;5;28mself\u001b[39m\u001b[38;5;241m.\u001b[39mwidget \u001b[38;5;241m=\u001b[39m widget\n\u001b[1;32m-> 1916\u001b[0m \u001b[38;5;28;01mdef\u001b[39;00m \u001b[38;5;21m__call__\u001b[39m(\u001b[38;5;28mself\u001b[39m, \u001b[38;5;241m*\u001b[39margs):\n\u001b[0;32m   1917\u001b[0m \u001b[38;5;250m    \u001b[39m\u001b[38;5;124;03m\"\"\"Apply first function SUBST to arguments, than FUNC.\"\"\"\u001b[39;00m\n\u001b[0;32m   1918\u001b[0m     \u001b[38;5;28;01mtry\u001b[39;00m:\n",
      "File \u001b[1;32m_pydevd_bundle/pydevd_cython.pyx:1457\u001b[0m, in \u001b[0;36m_pydevd_bundle.pydevd_cython.SafeCallWrapper.__call__\u001b[1;34m()\u001b[0m\n",
      "File \u001b[1;32m_pydevd_bundle/pydevd_cython.pyx:1758\u001b[0m, in \u001b[0;36m_pydevd_bundle.pydevd_cython.ThreadTracer.__call__\u001b[1;34m()\u001b[0m\n",
      "File \u001b[1;32m~\\AppData\\Local\\Packages\\PythonSoftwareFoundation.Python.3.10_qbz5n2kfra8p0\\LocalCache\\local-packages\\Python310\\site-packages\\debugpy\\_vendored\\pydevd\\_pydev_bundle\\pydev_is_thread_alive.py:9\u001b[0m, in \u001b[0;36mis_thread_alive\u001b[1;34m(t)\u001b[0m\n\u001b[0;32m      6\u001b[0m _temp \u001b[38;5;241m=\u001b[39m threading\u001b[38;5;241m.\u001b[39mThread()\n\u001b[0;32m      7\u001b[0m \u001b[38;5;28;01mif\u001b[39;00m \u001b[38;5;28mhasattr\u001b[39m(_temp, \u001b[38;5;124m'\u001b[39m\u001b[38;5;124m_is_stopped\u001b[39m\u001b[38;5;124m'\u001b[39m):  \u001b[38;5;66;03m# Python 3.x has this\u001b[39;00m\n\u001b[1;32m----> 9\u001b[0m     \u001b[38;5;28;01mdef\u001b[39;00m \u001b[38;5;21mis_thread_alive\u001b[39m(t):\n\u001b[0;32m     10\u001b[0m         \u001b[38;5;28;01mreturn\u001b[39;00m \u001b[38;5;129;01mnot\u001b[39;00m t\u001b[38;5;241m.\u001b[39m_is_stopped\n\u001b[0;32m     12\u001b[0m \u001b[38;5;28;01melif\u001b[39;00m \u001b[38;5;28mhasattr\u001b[39m(_temp, \u001b[38;5;124m'\u001b[39m\u001b[38;5;124m_Thread__stopped\u001b[39m\u001b[38;5;124m'\u001b[39m):  \u001b[38;5;66;03m# Python 2.x has this\u001b[39;00m\n",
      "\u001b[1;31mKeyboardInterrupt\u001b[0m: "
     ]
    }
   ],
   "source": [
    "## Loop through time\n",
    "while True:\n",
    "    # Get Information about all subaccounts\n",
    "    subaccounts = cl.all_accounts()\n",
    "    data = json.loads(subaccounts) \n",
    "    subaccount_names = [account[\"accountName\"] for account in data[\"accounts\"]]\n",
    "    subaccount_balance = [account[\"balance\"][\"balance\"] for account in data[\"accounts\"]]\n",
    "    subaccount_profitloss = [account[\"balance\"][\"profitLoss\"] for account in data[\"accounts\"]]\n",
    "    subaccount_IDs = [account[\"accountId\"] for account in data[\"accounts\"]]\n",
    "\n",
    "    # Tickers of interest are found in the watchlist \n",
    "    # !!(Maybe update the Watchlist ID here / create multiple)\n",
    "    watchlists = cl.watchlist_stockwatch()\n",
    "    data = json.loads(watchlists)\n",
    "    tickers = [entry['epic'] for entry in data['markets']]\n",
    "\n",
    "    # delete all tickers with open positions \n",
    "    positions_open = []\n",
    "    all_positions_tickers = []\n",
    "    for account in subaccount_IDs:\n",
    "        cl.switch_account(account)\n",
    "        plh = json.loads(cl.all_positions())\n",
    "        if plh.get(\"positions\"):\n",
    "            positions_open.extend([entry['market']['epic'] for entry in plh['positions']])\n",
    "            #all_positions_tickers = [entry['market']['epic'] for entry in positions_open['positions']]\n",
    "\n",
    "    # Remove elements from A that are also in B#\n",
    "    unique_positions = []\n",
    "    if positions_open:\n",
    "        unique_positions = list(set(positions_open)) \n",
    "        tickers = [x for x in tickers if x not in unique_positions]\n",
    "    #print(tickers)\n",
    "\n",
    "    # Make trading decisions\n",
    "    for ticker in tickers:\n",
    "        epic = ticker\n",
    "        resolution = ResolutionType.MINUTE_30\n",
    "        max = 300\n",
    "        # get prices\n",
    "        prices = cl.historical_prices(epic,resolution, max)\n",
    "        data = json.loads(prices) \n",
    "        snapshot_times = [entry['snapshotTime'] for entry in data['prices']]\n",
    "        bid_prices = [entry['openPrice']['bid'] for entry in data['prices']]\n",
    "        ask_prices = [entry['openPrice']['ask'] for entry in data['prices']]\n",
    "        \n",
    "        ######################\n",
    "        # Make actions\n",
    "        action = Scripts.simpletest(bid_prices)\n",
    "        account = \"Demo_1\"\n",
    "        if action == \"BUY\":\n",
    "            webhook(epic,action,bid_prices[-1],account)\n",
    "\n",
    "        action = Scripts.GPT_intuitive(bid_prices) #bullshit, zehn Mal die gleiche action dann \n",
    "        account = \"Demo_2\"\n",
    "        if action == \"BUY\":\n",
    "            webhook(epic,action,bid_prices[-1],account)\n",
    "        if action == \"SELL\":\n",
    "            webhook(epic,action,bid_prices[-1],account)\n",
    "        # Actions done \n",
    "        ##############################\n",
    "        # Visualize data\n",
    "        # Sample account data\n",
    "        accounts = []\n",
    "        for index in range(0,len(subaccount_IDs)):\n",
    "            accounts.append(visualizations.Account(subaccount_names[index], subaccount_balance[index]))\n",
    "        # Create and run the account visualizer\n",
    "        visualizer = visualizations.AccountVisualizer(accounts)\n",
    "        visualizer.run()\n",
    "\n",
    "        # prints out actions (even if unsuccessful)\n",
    "        print(action)\n",
    "        print(ticker)"
   ]
  },
  {
   "cell_type": "code",
   "execution_count": null,
   "metadata": {},
   "outputs": [],
   "source": [
    "#####\n",
    "# initializations\n",
    "# Build UI\n",
    "# abfragen\n",
    "# Funktionen aufrufen\n",
    "# Aktionen durchführen\n",
    "# Log schreiben \n",
    "# UI updaten"
   ]
  }
 ],
 "metadata": {
  "kernelspec": {
   "display_name": "Python 3",
   "language": "python",
   "name": "python3"
  },
  "language_info": {
   "codemirror_mode": {
    "name": "ipython",
    "version": 3
   },
   "file_extension": ".py",
   "mimetype": "text/x-python",
   "name": "python",
   "nbconvert_exporter": "python",
   "pygments_lexer": "ipython3",
   "version": "3.10.11"
  }
 },
 "nbformat": 4,
 "nbformat_minor": 2
}
